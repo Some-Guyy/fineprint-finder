{
 "cells": [
  {
   "cell_type": "code",
   "execution_count": 1,
   "id": "1fa3635b",
   "metadata": {},
   "outputs": [],
   "source": [
    "import getpass\n",
    "import os\n",
    "\n",
    "if \"PPLX_API_KEY\" not in os.environ:\n",
    "    os.environ[\"PPLX_API_KEY\"] = getpass.getpass(\"Enter your Perplexity API key: \")\n",
    "\n",
    "from langchain_core.prompts import ChatPromptTemplate\n",
    "from langchain_perplexity import ChatPerplexity\n",
    "\n",
    "chat = ChatPerplexity(temperature=0, model=\"sonar\")"
   ]
  },
  {
   "cell_type": "code",
   "execution_count": 3,
   "id": "22c9a7a2",
   "metadata": {},
   "outputs": [
    {
     "name": "stdout",
     "output_type": "stream",
     "text": [
      "The key change in the data privacy regulation is that **personal data can no longer be stored indefinitely without user consent**; instead, **personal data must be deleted after 2 years unless the user renews their consent**. This introduces a clear time limit on data retention and requires active consent renewal to continue storing data beyond that period.\n",
      "\n",
      "Before the change:\n",
      "- Personal data could be stored indefinitely without needing to obtain or renew user consent.\n",
      "\n",
      "After the change:\n",
      "- Personal data must be deleted after 2 years.\n",
      "- Continued storage beyond 2 years requires renewed user consent.\n",
      "\n",
      "This change reflects a shift toward stronger data protection principles such as **data minimization** and **purpose limitation**, which are common in recent privacy laws taking effect in 2025 across various U.S. states. These laws emphasize limiting data retention to what is necessary and ensuring transparency and user control over personal data[1][2][3].\n",
      "\n",
      "In summary, the regulation now enforces a retention limit and consent renewal, enhancing user privacy rights and imposing stricter obligations on data controllers to manage personal data responsibly.\n"
     ]
    }
   ],
   "source": [
    "from langchain_core.prompts import ChatPromptTemplate\n",
    "\n",
    "system = \"You are a clear and concise assistant who explains regulatory changes.\"\n",
    "human = (\n",
    "    \"Explain the change in the regulation about {regulation_topic}.\\n\"\n",
    "    \"The regulation before the change was:\\n{before_text}\\n\\n\"\n",
    "    \"The regulation after the change is:\\n{after_text}\\n\\n\"\n",
    "    \"Please describe what changed.\"\n",
    ")\n",
    "\n",
    "prompt = ChatPromptTemplate.from_messages([\n",
    "    (\"system\", system),\n",
    "    (\"human\", human)\n",
    "])\n",
    "\n",
    "chain = prompt | chat\n",
    "\n",
    "response = chain.invoke({\n",
    "    \"regulation_topic\": \"data privacy\",\n",
    "    \"before_text\": \"Personal data could be stored indefinitely without user consent.\",\n",
    "    \"after_text\": \"Personal data must be deleted after 2 years unless consent is renewed.\"\n",
    "})\n",
    "\n",
    "print(response.content)"
   ]
  }
 ],
 "metadata": {
  "kernelspec": {
   "display_name": "myenv",
   "language": "python",
   "name": "python3"
  },
  "language_info": {
   "codemirror_mode": {
    "name": "ipython",
    "version": 3
   },
   "file_extension": ".py",
   "mimetype": "text/x-python",
   "name": "python",
   "nbconvert_exporter": "python",
   "pygments_lexer": "ipython3",
   "version": "3.12.6"
  }
 },
 "nbformat": 4,
 "nbformat_minor": 5
}
