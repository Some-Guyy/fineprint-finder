{
 "cells": [
  {
   "cell_type": "code",
   "execution_count": 1,
   "id": "1fa3635b",
   "metadata": {},
   "outputs": [],
   "source": [
    "import getpass\n",
    "import os\n",
    "\n",
    "if \"PPLX_API_KEY\" not in os.environ:\n",
    "    os.environ[\"PPLX_API_KEY\"] = getpass.getpass(\"Enter your Perplexity API key: \")\n",
    "\n",
    "from langchain_core.prompts import ChatPromptTemplate\n",
    "from langchain_perplexity import ChatPerplexity\n",
    "\n",
    "chat = ChatPerplexity(temperature=0, model=\"sonar\")"
   ]
  },
  {
   "cell_type": "code",
   "execution_count": null,
   "id": "22c9a7a2",
   "metadata": {},
   "outputs": [
    {
     "name": "stdout",
     "output_type": "stream",
     "text": [
      "The key change in the data privacy regulation is that **personal data can no longer be stored indefinitely without user consent**; instead, **personal data must be deleted after 2 years unless the user renews their consent**. This introduces a clear time limit on data retention and requires active consent renewal to continue storing data beyond that period.\n",
      "\n",
      "Before the change:\n",
      "- Personal data could be stored indefinitely without requiring ongoing user consent.\n",
      "\n",
      "After the change:\n",
      "- Personal data must be deleted after 2 years unless the user renews consent, enforcing a retention limit and emphasizing user control over their data.\n",
      "\n",
      "This change aligns with recent trends in U.S. state privacy laws effective in 2025, which emphasize **purpose limitation, data minimization, and enhanced consumer rights such as the right to delete data**[1][2][4]. These laws require data controllers to implement stricter data retention policies and provide transparency and control to consumers over their personal information[1]. The new retention requirement reflects the principle of data minimization, ensuring that data is not kept longer than necessary without explicit user permission[1].\n",
      "\n",
      "In summary, the regulation shifted from allowing indefinite data storage without consent to mandating deletion after a fixed period (2 years) unless consent is renewed, thereby strengthening data privacy protections and user control.\n"
     ]
    }
   ],
   "source": [
    "\n",
    "system = \"You are a clear and concise assistant who explains regulatory changes.\"\n",
    "human = (\n",
    "    \"Explain the change in the regulation about {regulation_topic}.\\n\"\n",
    "    \"The regulation before the change was:\\n{before_text}\\n\\n\"\n",
    "    \"The regulation after the change is:\\n{after_text}\\n\\n\"\n",
    "    \"Please describe what changed.\"\n",
    ")\n",
    "\n",
    "prompt = ChatPromptTemplate.from_messages([\n",
    "    (\"system\", system),\n",
    "    (\"human\", human)\n",
    "])\n",
    "\n",
    "chain = prompt | chat\n",
    "\n",
    "response = chain.invoke({\n",
    "    \"regulation_topic\": \"data privacy\",\n",
    "    \"before_text\": \"Personal data could be stored indefinitely without user consent.\",\n",
    "    \"after_text\": \"Personal data must be deleted after 2 years unless consent is renewed.\"\n",
    "})\n",
    "\n",
    "print(response.content)"
   ]
  },
  {
   "cell_type": "code",
   "execution_count": 6,
   "id": "2a5a5a63",
   "metadata": {},
   "outputs": [
    {
     "name": "stdout",
     "output_type": "stream",
     "text": [
      " The primary change in this regulatory update concerns the storage duration of personal data. Prior to the update, personal data could be stored indefinitely without the need for user consent. However, post the change, personal data can now only be stored for a maximum of two years unless the user explicitly renews their consent for further data retention. This modification enhances the protection of individuals' privacy by setting a limit on how long companies can keep their personal data without ongoing approval from the individual concerned.\n"
     ]
    }
   ],
   "source": [
    "from langchain_ollama.llms import OllamaLLM\n",
    "\n",
    "chat = OllamaLLM(model = \"mistral\")\n",
    "\n",
    "system = \"You are a clear and concise assistant who explains regulatory changes.\"\n",
    "human = (\n",
    "    \"Explain the change in the regulation about {regulation_topic}.\\n\"\n",
    "    \"The regulation before the change was:\\n{before_text}\\n\\n\"\n",
    "    \"The regulation after the change is:\\n{after_text}\\n\\n\"\n",
    "    \"Please describe what changed.\"\n",
    ")\n",
    "\n",
    "prompt = ChatPromptTemplate.from_messages([\n",
    "    (\"system\", system),\n",
    "    (\"human\", human)\n",
    "])\n",
    "\n",
    "chain = prompt | chat\n",
    "\n",
    "response = chain.invoke({\n",
    "    \"regulation_topic\": \"data privacy\",\n",
    "    \"before_text\": \"Personal data could be stored indefinitely without user consent.\",\n",
    "    \"after_text\": \"Personal data must be deleted after 2 years unless consent is renewed.\"\n",
    "})\n",
    "\n",
    "print(response)\n"
   ]
  }
 ],
 "metadata": {
  "kernelspec": {
   "display_name": "myenv",
   "language": "python",
   "name": "python3"
  },
  "language_info": {
   "codemirror_mode": {
    "name": "ipython",
    "version": 3
   },
   "file_extension": ".py",
   "mimetype": "text/x-python",
   "name": "python",
   "nbconvert_exporter": "python",
   "pygments_lexer": "ipython3",
   "version": "3.12.6"
  }
 },
 "nbformat": 4,
 "nbformat_minor": 5
}
